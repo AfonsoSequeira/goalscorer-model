{
 "cells": [
  {
   "cell_type": "code",
   "execution_count": 24,
   "id": "01b89881",
   "metadata": {},
   "outputs": [],
   "source": [
    "import bz2\n",
    "import os\n",
    "import tarfile\n",
    "import json\n",
    "from datetime import datetime\n",
    "import pandas as pd\n",
    "from unidecode import unidecode\n",
    "import numpy as np\n",
    "from fuzzywuzzy import fuzz\n",
    "import sys\n",
    "sys.path.insert(0,'C:/MyDevelopment/goalscorer-model')\n",
    "\n",
    "import data_cleaning as dc"
   ]
  },
  {
   "cell_type": "code",
   "execution_count": 25,
   "id": "a5a02600",
   "metadata": {},
   "outputs": [],
   "source": [
    "#import betfair data\n",
    "betfair_df = pd.read_csv(\"betfairhistoricalprices/goalscorer_price_data.csv\")"
   ]
  },
  {
   "cell_type": "code",
   "execution_count": 26,
   "id": "015d4274",
   "metadata": {},
   "outputs": [],
   "source": [
    "#import fbref data\n",
    "fbref_df = dc.load_data(seasons_to_load=None, leagues_to_load=None)"
   ]
  },
  {
   "cell_type": "code",
   "execution_count": 27,
   "id": "4cba53eb",
   "metadata": {},
   "outputs": [],
   "source": [
    "#make deep copy of fbref data\n",
    "event_df = fbref_df.copy(deep=True)"
   ]
  },
  {
   "cell_type": "code",
   "execution_count": 28,
   "id": "d522ae70",
   "metadata": {},
   "outputs": [
    {
     "data": {
      "text/html": [
       "<div>\n",
       "<style scoped>\n",
       "    .dataframe tbody tr th:only-of-type {\n",
       "        vertical-align: middle;\n",
       "    }\n",
       "\n",
       "    .dataframe tbody tr th {\n",
       "        vertical-align: top;\n",
       "    }\n",
       "\n",
       "    .dataframe thead th {\n",
       "        text-align: right;\n",
       "    }\n",
       "</style>\n",
       "<table border=\"1\" class=\"dataframe\">\n",
       "  <thead>\n",
       "    <tr style=\"text-align: right;\">\n",
       "      <th></th>\n",
       "      <th>operation_type</th>\n",
       "      <th>publish_time</th>\n",
       "      <th>event_name</th>\n",
       "      <th>event_id</th>\n",
       "      <th>market_name</th>\n",
       "      <th>open_date</th>\n",
       "      <th>market_time</th>\n",
       "      <th>inplay</th>\n",
       "      <th>runner_name</th>\n",
       "      <th>runner_id</th>\n",
       "      <th>ltp</th>\n",
       "    </tr>\n",
       "  </thead>\n",
       "  <tbody>\n",
       "    <tr>\n",
       "      <th>0</th>\n",
       "      <td>mcm</td>\n",
       "      <td>2017-01-01 12:45:30.823</td>\n",
       "      <td>Watford v Tottenham</td>\n",
       "      <td>28054213</td>\n",
       "      <td>To Score</td>\n",
       "      <td>2017-01-01T13:30:00.000Z</td>\n",
       "      <td>2017-01-01T13:30:00.000Z</td>\n",
       "      <td>False</td>\n",
       "      <td>Abdoulaye Doucoure</td>\n",
       "      <td>7647245</td>\n",
       "      <td>8.00</td>\n",
       "    </tr>\n",
       "    <tr>\n",
       "      <th>1</th>\n",
       "      <td>mcm</td>\n",
       "      <td>2017-01-01 13:00:30.805</td>\n",
       "      <td>Watford v Tottenham</td>\n",
       "      <td>28054213</td>\n",
       "      <td>To Score</td>\n",
       "      <td>2017-01-01T13:30:00.000Z</td>\n",
       "      <td>2017-01-01T13:30:00.000Z</td>\n",
       "      <td>False</td>\n",
       "      <td>Abdoulaye Doucoure</td>\n",
       "      <td>7647245</td>\n",
       "      <td>11.50</td>\n",
       "    </tr>\n",
       "    <tr>\n",
       "      <th>2</th>\n",
       "      <td>mcm</td>\n",
       "      <td>2017-01-01 13:12:30.539</td>\n",
       "      <td>Watford v Tottenham</td>\n",
       "      <td>28054213</td>\n",
       "      <td>To Score</td>\n",
       "      <td>2017-01-01T13:30:00.000Z</td>\n",
       "      <td>2017-01-01T13:30:00.000Z</td>\n",
       "      <td>False</td>\n",
       "      <td>Abdoulaye Doucoure</td>\n",
       "      <td>7647245</td>\n",
       "      <td>11.00</td>\n",
       "    </tr>\n",
       "    <tr>\n",
       "      <th>3</th>\n",
       "      <td>mcm</td>\n",
       "      <td>2017-01-01 13:53:30.864</td>\n",
       "      <td>Watford v Tottenham</td>\n",
       "      <td>28054213</td>\n",
       "      <td>To Score</td>\n",
       "      <td>2017-01-01T13:30:00.000Z</td>\n",
       "      <td>2017-01-01T13:30:00.000Z</td>\n",
       "      <td>True</td>\n",
       "      <td>Adlene Guedioura</td>\n",
       "      <td>4506604</td>\n",
       "      <td>16.00</td>\n",
       "    </tr>\n",
       "    <tr>\n",
       "      <th>4</th>\n",
       "      <td>mcm</td>\n",
       "      <td>2016-12-30 17:09:59.154</td>\n",
       "      <td>Watford v Tottenham</td>\n",
       "      <td>28054213</td>\n",
       "      <td>To Score</td>\n",
       "      <td>2017-01-01T13:30:00.000Z</td>\n",
       "      <td>2017-01-01T13:30:00.000Z</td>\n",
       "      <td>False</td>\n",
       "      <td>Christian Eriksen</td>\n",
       "      <td>4540367</td>\n",
       "      <td>2.98</td>\n",
       "    </tr>\n",
       "  </tbody>\n",
       "</table>\n",
       "</div>"
      ],
      "text/plain": [
       "  operation_type             publish_time           event_name  event_id  \\\n",
       "0            mcm  2017-01-01 12:45:30.823  Watford v Tottenham  28054213   \n",
       "1            mcm  2017-01-01 13:00:30.805  Watford v Tottenham  28054213   \n",
       "2            mcm  2017-01-01 13:12:30.539  Watford v Tottenham  28054213   \n",
       "3            mcm  2017-01-01 13:53:30.864  Watford v Tottenham  28054213   \n",
       "4            mcm  2016-12-30 17:09:59.154  Watford v Tottenham  28054213   \n",
       "\n",
       "  market_name                 open_date               market_time  inplay  \\\n",
       "0    To Score  2017-01-01T13:30:00.000Z  2017-01-01T13:30:00.000Z   False   \n",
       "1    To Score  2017-01-01T13:30:00.000Z  2017-01-01T13:30:00.000Z   False   \n",
       "2    To Score  2017-01-01T13:30:00.000Z  2017-01-01T13:30:00.000Z   False   \n",
       "3    To Score  2017-01-01T13:30:00.000Z  2017-01-01T13:30:00.000Z    True   \n",
       "4    To Score  2017-01-01T13:30:00.000Z  2017-01-01T13:30:00.000Z   False   \n",
       "\n",
       "          runner_name  runner_id    ltp  \n",
       "0  Abdoulaye Doucoure    7647245   8.00  \n",
       "1  Abdoulaye Doucoure    7647245  11.50  \n",
       "2  Abdoulaye Doucoure    7647245  11.00  \n",
       "3    Adlene Guedioura    4506604  16.00  \n",
       "4   Christian Eriksen    4540367   2.98  "
      ]
     },
     "execution_count": 28,
     "metadata": {},
     "output_type": "execute_result"
    }
   ],
   "source": [
    "betfair_df.head()"
   ]
  },
  {
   "cell_type": "code",
   "execution_count": 45,
   "id": "30d330bd",
   "metadata": {},
   "outputs": [],
   "source": [
    "#helper functions\n",
    "def transform_dict(input_dict):\n",
    "    output_dict = {}\n",
    "    for key, value_list in input_dict.items():\n",
    "        for value in value_list:\n",
    "            output_dict[value] = key\n",
    "    return output_dict\n",
    "\n",
    "def match_words(A, B):\n",
    "    result = {}\n",
    "    for a in A:\n",
    "        words = set(a.split())\n",
    "        words = [w for w in words if len(w) > 2 and w not in [\"City\",\"Town\",\"United\",\"Real\", \"West\"]]\n",
    "        matching_elements = [b for b in B if any(word in b for word in words)]\n",
    "        result[a] = matching_elements\n",
    "    return result\n",
    "\n",
    "def filter_function(row):\n",
    "    flag = row['player'].split()[-1].split('-')[-1] in [word for part in row['runner_name'].split() for word in part.split('-')]\n",
    "    return flag\n",
    "\n",
    "def get_scores(row):\n",
    "    score = fuzz.ratio(row[\"player\"], row[\"runner_name\"])\n",
    "    return score"
   ]
  },
  {
   "cell_type": "markdown",
   "id": "808f7ad5",
   "metadata": {},
   "source": [
    "## 1. Map team names"
   ]
  },
  {
   "cell_type": "code",
   "execution_count": 46,
   "id": "8346ec50",
   "metadata": {},
   "outputs": [],
   "source": [
    "#split event name into home away teams\n",
    "betfair_df[['home_team', 'away_team']] = betfair_df['event_name'].str.split(' v ', n=1, expand=True)\n",
    "\n",
    "#get unique teams list for fbref and betfair, unidecode names\n",
    "event_df_teams = pd.Series(pd.unique(event_df[['home_team', 'away_team']].values.ravel('K'))).transform(lambda x: unidecode(x))\n",
    "betfair_df_teams = pd.Series(pd.unique(betfair_df[['home_team', 'away_team']].values.ravel('K'))).transform(lambda x: unidecode(x))"
   ]
  },
  {
   "cell_type": "code",
   "execution_count": 47,
   "id": "ca9f38bb",
   "metadata": {},
   "outputs": [],
   "source": [
    "#current mapping (key:fbref -> val:betfair)\n",
    "mapping = {\n",
    "    'Ajaccio': ['AC Ajaccio'],\n",
    "    'Arminia': ['Arminia Bielefeld'],\n",
    "    'Arouca': [],\n",
    "    'Athletic Club': ['Athletic Bilbao'],\n",
    "    'Aves': [],\n",
    "    'Bayer Leverkusen': ['Leverkusen'],\n",
    "    'Belenenses SAD': [],\n",
    "    'Birmingham City': ['Birmingham'],\n",
    "    'Blackburn Rovers': ['Blackburn'],\n",
    "    'Boavista': [],\n",
    "    'Bolton Wanderers': ['Bolton'],\n",
    "    'Brighton & Hove Albion': ['Brighton'],\n",
    "    'Cambuur': [],\n",
    "    'Cardiff City': ['Cardiff'],\n",
    "    'Casa Pia': [],\n",
    "    'Charlton Athletic': ['Charlton'],\n",
    "    'Chaves': [],\n",
    "    'Clermont Foot': ['Clermont'],\n",
    "    'Coventry City': ['Coventry'],\n",
    "    'Cremonese': ['US Cremonese'],\n",
    "    'De Graafschap': [],\n",
    "    'Deportivo La Coruna': ['Deportivo'],\n",
    "    'Derby County': ['Derby'],\n",
    "    'Dusseldorf': ['Fortuna Dusseldorf'],\n",
    "    'Emmen': [],\n",
    "    'Estoril': [],\n",
    "    'Famalicao': [],\n",
    "    'Farense': [],\n",
    "    'Feirense': [],\n",
    "    'Fortuna Sittard': [],\n",
    "    'Gil Vicente FC': [],\n",
    "    'Go Ahead Eagles': [],\n",
    "    'Hannover 96': ['Hannover'],\n",
    "    'Heerenveen': [],\n",
    "    'Hellas Verona': ['Verona'],\n",
    "    'Heracles Almelo': [],\n",
    "    'Hertha BSC': ['Hertha Berlin'],\n",
    "    'Internazionale': ['Inter Milan'],\n",
    "    'Ipswich Town': ['Ipswich'],\n",
    "    'Koln': ['FC Koln'],\n",
    "    'Leeds United': ['Leeds', 'Leeds Utd'],\n",
    "    'Leicester City': ['Leicester'],\n",
    "    'Luton Town': ['Luton'],\n",
    "    'Mainz 05': ['Mainz', 'FSV Mainz 05'],\n",
    "    'Manchester City': ['Man City'],\n",
    "    'Manchester United': ['Man Utd'],\n",
    "    'Maritimo': [],\n",
    "    'Milan': ['AC Milan'],\n",
    "    'Monchengladbach': ['Mgladbach'],\n",
    "    'Monza': ['AC Monza'],\n",
    "    'Moreirense': [],\n",
    "    'NAC Breda': [],\n",
    "    'NEC Nijmegen': [],\n",
    "    'Nacional': [],\n",
    "    'Newcastle United': ['Newcastle'],\n",
    "    'Norwich City': ['Norwich'],\n",
    "    'Nottingham Forest': ['Nottm Forest'],\n",
    "    'PSV Eindhoven': ['PSV'],\n",
    "    'Pacos de Ferreira': [],\n",
    "    'Paderborn 07': ['Paderborn'],\n",
    "    'Paris Saint-Germain': ['Paris St-G'],\n",
    "    'Peterborough United': ['Peterborough'],\n",
    "    'Portimonense': [],\n",
    "    'Preston North End': ['Preston'],\n",
    "    'Queens Park Rangers': ['Rangers'],\n",
    "    'RKC Waalwijk': [],\n",
    "    'Real Betis': ['Betis'],\n",
    "    'Rio Ave': [],\n",
    "    'Rotherham United': ['Rotherham'],\n",
    "    'Saint-Etienne': ['St Etienne'],\n",
    "    'Santa Clara': [],\n",
    "    'Sheffield United': ['Sheff Utd'],\n",
    "    'Sheffield Wednesday': ['Sheff Wed'],\n",
    "    'Sparta Rotterdam': [],\n",
    "    'Sporting CP': ['Sporting Lisbon'],\n",
    "    'Swansea City': ['Swansea'],\n",
    "    'Tondela': [],\n",
    "    'Tottenham Hotspur': ['Tottenham'],\n",
    "    'Troyes': ['ESTAC Troyes'],\n",
    "    'VVV-Venlo': [],\n",
    "    'Vitoria Guimaraes': ['Guimaraes'],\n",
    "    'Vitoria Setubal': [],\n",
    "    'Vizela': [],\n",
    "    'Volendam': [],\n",
    "    'West Bromwich Albion': ['West Brom'],\n",
    "    'West Ham United': ['West Ham'],\n",
    "    'Wigan Athletic': ['Wigan'],\n",
    "    'Willem II': [],\n",
    "    'Wolverhampton Wanderers': ['Wolves'],\n",
    "    'Wycombe Wanderers': ['Wycombe']\n",
    "}\n",
    "\n",
    "team_mapping = transform_dict(mapping)\n",
    "betfair_df_teams = betfair_df_teams.transform(lambda x: team_mapping[x] if x in team_mapping.keys() else x)"
   ]
  },
  {
   "cell_type": "code",
   "execution_count": 48,
   "id": "9bd0a0f5",
   "metadata": {},
   "outputs": [
    {
     "name": "stdout",
     "output_type": "stream",
     "text": [
      "['Arouca' 'Aves' 'Belenenses SAD' 'Cambuur' 'Casa Pia' 'De Graafschap'\n",
      " 'Emmen' 'Estoril' 'Famalicao' 'Farense' 'Fortuna Sittard'\n",
      " 'Gil Vicente FC' 'Go Ahead Eagles' 'Heracles Almelo' 'Maritimo'\n",
      " 'NAC Breda' 'Nacional' 'Pacos de Ferreira' 'Portimonense' 'RKC Waalwijk'\n",
      " 'Rio Ave' 'Santa Clara' 'VVV-Venlo' 'Vitoria Setubal' 'Vizela' 'Volendam']\n"
     ]
    }
   ],
   "source": [
    "intersection = np.intersect1d(event_df_teams, betfair_df_teams)\n",
    "outersection = np.setdiff1d(event_df_teams, betfair_df_teams)\n",
    "assert(len(outersection) + len(intersection) == len(event_df_teams))\n",
    "\n",
    "#print(intersection)\n",
    "print(outersection)"
   ]
  },
  {
   "cell_type": "code",
   "execution_count": 49,
   "id": "84389544",
   "metadata": {},
   "outputs": [
    {
     "data": {
      "text/plain": [
       "{'Arouca': [],\n",
       " 'Aves': [],\n",
       " 'Belenenses SAD': [],\n",
       " 'Cambuur': [],\n",
       " 'Casa Pia': [],\n",
       " 'De Graafschap': [],\n",
       " 'Emmen': [],\n",
       " 'Estoril': [],\n",
       " 'Famalicao': [],\n",
       " 'Farense': [],\n",
       " 'Fortuna Sittard': [],\n",
       " 'Gil Vicente FC': ['Gillingham', 'Union St Gilloise'],\n",
       " 'Go Ahead Eagles': [],\n",
       " 'Heracles Almelo': ['Heracles'],\n",
       " 'Maritimo': [],\n",
       " 'NAC Breda': ['Breda'],\n",
       " 'Nacional': [],\n",
       " 'Pacos de Ferreira': [],\n",
       " 'Portimonense': [],\n",
       " 'RKC Waalwijk': [],\n",
       " 'Rio Ave': [],\n",
       " 'Santa Clara': [],\n",
       " 'VVV-Venlo': [],\n",
       " 'Vitoria Setubal': ['Setubal', 'Vitoria Guimaraes'],\n",
       " 'Vizela': [],\n",
       " 'Volendam': []}"
      ]
     },
     "execution_count": 49,
     "metadata": {},
     "output_type": "execute_result"
    }
   ],
   "source": [
    "#automatically search for team name pairs that share a word (see match_words function def), if raw_map contains key, val pairs,\n",
    "#check if they are correct and update the mapping above and re run.\n",
    "raw_map = match_words(outersection, betfair_df_teams)\n",
    "raw_map"
   ]
  },
  {
   "cell_type": "markdown",
   "id": "dcccd5bb",
   "metadata": {},
   "source": [
    "## 2. Map fbref and betfair matches and players"
   ]
  },
  {
   "cell_type": "markdown",
   "id": "173e4546",
   "metadata": {},
   "source": [
    "### 2.1 Matches"
   ]
  },
  {
   "cell_type": "code",
   "execution_count": 50,
   "id": "24cce7a5",
   "metadata": {},
   "outputs": [],
   "source": [
    "#apply pre-processing to event_df and betfair_df (unidecode and map betfair names to fbref names)\n",
    "event_df['home_team'] = event_df['home_team'].transform(lambda x: unidecode(x))\n",
    "event_df['away_team'] = event_df['away_team'].transform(lambda x: unidecode(x))\n",
    "\n",
    "betfair_df['home_team'] = betfair_df['home_team'].transform(lambda x: unidecode(x))\n",
    "betfair_df['away_team'] = betfair_df['away_team'].transform(lambda x: unidecode(x))\n",
    "\n",
    "#map betfair team names to fbref team names\n",
    "betfair_df['home_team'] = betfair_df['home_team'].transform(lambda x: team_mapping[x] if x in team_mapping.keys() else x)\n",
    "betfair_df['away_team'] = betfair_df['away_team'].transform(lambda x: team_mapping[x] if x in team_mapping.keys() else x)\n",
    "\n",
    "#rename betfair open_date as datetime, and convert both to string datetimes,remove timezone from utc betfair datetime\n",
    "betfair_df[\"datetime\"] = betfair_df.open_date.copy()\n",
    "betfair_df.datetime = pd.to_datetime(betfair_df.datetime).dt.tz_localize(None)\n",
    "event_df.datetime = pd.to_datetime(event_df.datetime)\n",
    "\n",
    "#create date columns\n",
    "betfair_df[\"date\"] = pd.to_datetime(betfair_df.datetime.dt.date)\n",
    "event_df[\"date\"] = pd.to_datetime(event_df.datetime.dt.date)\n",
    "\n",
    "#merge matches on matchdate, home_team and away_team (left merge)\n",
    "betfair_matches = betfair_df[[\"event_name\", \"date\", \"home_team\", \"away_team\"]].drop_duplicates()\n",
    "event_matches = event_df[['home_team', 'away_team', 'date']].drop_duplicates()\n",
    "\n",
    "#temporary pre-2023 and post-2017 filter!!\n",
    "#event_matches = event_matches[(event_matches.date < '2023-01-01') & (event_matches.date > '2018-01-01')]\n",
    "\n",
    "matches = pd.merge(event_matches, betfair_matches, on=['date', 'home_team', 'away_team'])"
   ]
  },
  {
   "cell_type": "markdown",
   "id": "9660f083",
   "metadata": {},
   "source": [
    "### 2.2 Players"
   ]
  },
  {
   "cell_type": "code",
   "execution_count": 51,
   "id": "f70b9378",
   "metadata": {},
   "outputs": [],
   "source": [
    "#repeat the merge but this time include the players\n",
    "#merge matches on matchdate, home_team and away_team (left merge)\n",
    "betfair_players = betfair_df[[\"date\", \"home_team\", \"away_team\", \"event_id\",\"runner_id\", \"runner_name\"]].drop_duplicates()\n",
    "event_players = event_df[['home_team', 'away_team', 'date',\"player_id\", \"player\"]].drop_duplicates()\n",
    "\n",
    "betfair_players.runner_name = betfair_players.runner_name.transform(lambda x: unidecode(x))\n",
    "event_players.player = event_players.player.transform(lambda x: unidecode(x))\n",
    "\n",
    "#temporary pre-2023 and post-2017 filter!!\n",
    "#event_players = event_players[(event_players.date < '2023-01-01') & (event_players.date > '2018-01-01')]\n",
    "\n",
    "#use only matches that exist both in betfair and fbref datasets (from 2.1)\n",
    "matched_players_fbref = pd.merge(matches, event_players, on=['date', 'home_team', 'away_team'], how='left')\n",
    "matched_players = pd.merge(matched_players_fbref, betfair_players, on=['date', 'home_team', 'away_team'], how='left')"
   ]
  },
  {
   "cell_type": "code",
   "execution_count": 52,
   "id": "a9184b34",
   "metadata": {},
   "outputs": [
    {
     "name": "stdout",
     "output_type": "stream",
     "text": [
      "N. duplicates = 1914\n",
      "N. duplicates after removal = 0\n"
     ]
    }
   ],
   "source": [
    "#filter for rows where fbref player last name is one of the names in runner_name \n",
    "filtered_df = matched_players[matched_players.apply(lambda row: filter_function(row), axis=1)].copy(deep=True)\n",
    "\n",
    "#score each row for similarity between player and runner_name\n",
    "filtered_df[\"str_scores\"] = filtered_df.apply(get_scores, axis=1)\n",
    "\n",
    "#check duplicates\n",
    "print(f\"N. duplicates = {len(filtered_df[filtered_df[['home_team', 'away_team', 'date', 'player']].duplicated(keep=False)])}\")\n",
    "\n",
    "#rank rows by similarity and for each \"player\" keep only the best match\n",
    "indices =  filtered_df.groupby([\"home_team\", \"away_team\", \"date\", \"player\"])['str_scores'].idxmax()\n",
    "filtered_df = filtered_df.loc[indices]\n",
    "\n",
    "#check duplicates\n",
    "print(f\"N. duplicates after removal = {len(filtered_df[filtered_df[['home_team', 'away_team', 'date', 'player']].duplicated(keep=False)])}\")"
   ]
  },
  {
   "cell_type": "markdown",
   "id": "3298a83f",
   "metadata": {},
   "source": [
    "## 3. Check missing values"
   ]
  },
  {
   "cell_type": "markdown",
   "id": "616994a2",
   "metadata": {},
   "source": [
    "### 3.1 Check missing matches"
   ]
  },
  {
   "cell_type": "code",
   "execution_count": 53,
   "id": "2d41514f",
   "metadata": {},
   "outputs": [
    {
     "name": "stdout",
     "output_type": "stream",
     "text": [
      "N. betfair matches = 13427\n",
      "N. fbref matches = 16645\n",
      "N. of 'matched' matches = 7688\n"
     ]
    }
   ],
   "source": [
    "print(f\"N. betfair matches = {len(betfair_matches)}\")\n",
    "print(f\"N. fbref matches = {len(event_matches)}\")\n",
    "print(f\"N. of 'matched' matches = {len(matches)}\")"
   ]
  },
  {
   "cell_type": "code",
   "execution_count": 54,
   "id": "01b39221",
   "metadata": {
    "scrolled": false
   },
   "outputs": [
    {
     "data": {
      "text/html": [
       "<div>\n",
       "<style scoped>\n",
       "    .dataframe tbody tr th:only-of-type {\n",
       "        vertical-align: middle;\n",
       "    }\n",
       "\n",
       "    .dataframe tbody tr th {\n",
       "        vertical-align: top;\n",
       "    }\n",
       "\n",
       "    .dataframe thead th {\n",
       "        text-align: right;\n",
       "    }\n",
       "</style>\n",
       "<table border=\"1\" class=\"dataframe\">\n",
       "  <thead>\n",
       "    <tr style=\"text-align: right;\">\n",
       "      <th></th>\n",
       "      <th>total_rows</th>\n",
       "      <th>null_event_rows</th>\n",
       "    </tr>\n",
       "    <tr>\n",
       "      <th>year</th>\n",
       "      <th></th>\n",
       "      <th></th>\n",
       "    </tr>\n",
       "  </thead>\n",
       "  <tbody>\n",
       "    <tr>\n",
       "      <th>2017</th>\n",
       "      <td>909</td>\n",
       "      <td>547</td>\n",
       "    </tr>\n",
       "    <tr>\n",
       "      <th>2018</th>\n",
       "      <td>2387</td>\n",
       "      <td>1509</td>\n",
       "    </tr>\n",
       "    <tr>\n",
       "      <th>2019</th>\n",
       "      <td>3005</td>\n",
       "      <td>1976</td>\n",
       "    </tr>\n",
       "    <tr>\n",
       "      <th>2020</th>\n",
       "      <td>2562</td>\n",
       "      <td>1488</td>\n",
       "    </tr>\n",
       "    <tr>\n",
       "      <th>2021</th>\n",
       "      <td>3259</td>\n",
       "      <td>1592</td>\n",
       "    </tr>\n",
       "    <tr>\n",
       "      <th>2022</th>\n",
       "      <td>2829</td>\n",
       "      <td>1229</td>\n",
       "    </tr>\n",
       "    <tr>\n",
       "      <th>2023</th>\n",
       "      <td>1694</td>\n",
       "      <td>616</td>\n",
       "    </tr>\n",
       "  </tbody>\n",
       "</table>\n",
       "</div>"
      ],
      "text/plain": [
       "      total_rows  null_event_rows\n",
       "year                             \n",
       "2017         909              547\n",
       "2018        2387             1509\n",
       "2019        3005             1976\n",
       "2020        2562             1488\n",
       "2021        3259             1592\n",
       "2022        2829             1229\n",
       "2023        1694              616"
      ]
     },
     "metadata": {},
     "output_type": "display_data"
    }
   ],
   "source": [
    "all_matches = event_matches.merge(matches, on=[\"home_team\",\"away_team\",\"date\"], how='left')\n",
    "all_matches['year'] = all_matches['date'].dt.year\n",
    "\n",
    "# Group by year and count\n",
    "result = all_matches.groupby('year').agg(\n",
    "    total_rows=pd.NamedAgg(column='date', aggfunc='size'),\n",
    "    null_event_rows=pd.NamedAgg(column='event_name', aggfunc=lambda x: x.isnull().sum())\n",
    ")\n",
    "\n",
    "display(result.head(10))\n",
    "\n",
    "# # Group by leaue and count\n",
    "# result = all_matches.groupby('league_name').agg(\n",
    "#     total_rows=pd.NamedAgg(column='date', aggfunc='size'),\n",
    "#     null_event_rows=pd.NamedAgg(column='event_name', aggfunc=lambda x: x.isnull().sum())\n",
    "# )\n",
    "\n",
    "# display(result.head(10))\n",
    "\n",
    "# # Group by leaue and year, and count\n",
    "# result = all_matches.groupby(['league_name','year']).agg(\n",
    "#     total_rows=pd.NamedAgg(column='date', aggfunc='size'),\n",
    "#     null_event_rows=pd.NamedAgg(column='event_name', aggfunc=lambda x: x.isnull().sum())\n",
    "# )\n",
    "\n",
    "# display(result.head(80))"
   ]
  },
  {
   "cell_type": "code",
   "execution_count": 55,
   "id": "40bbf496",
   "metadata": {},
   "outputs": [],
   "source": [
    "#all_matches[(all_matches.league_name == \"La Liga\") & (all_matches.event_name.isnull())].head(3)"
   ]
  },
  {
   "cell_type": "markdown",
   "id": "705aff0a",
   "metadata": {},
   "source": [
    "### 3.2 Check missing players (for matched matches)"
   ]
  },
  {
   "cell_type": "code",
   "execution_count": 56,
   "id": "faf591ee",
   "metadata": {
    "scrolled": false
   },
   "outputs": [
    {
     "name": "stdout",
     "output_type": "stream",
     "text": [
      "(225353, 8)\n",
      "(86424, 12)\n"
     ]
    }
   ],
   "source": [
    "#check missing values\n",
    "print(matched_players_fbref.shape)\n",
    "print(filtered_df.shape)\n",
    "\n",
    "# all_matches = matched_players_fbref.merge(filtered_df,\n",
    "#                          on = [\"home_team\",\"away_team\",\"date\",\"league_name\",\"season\",\"event_name\",\"player_id\",\"player\"],\n",
    "#                          how='left')\n",
    "\n",
    "# Group by year and count\n",
    "# result = all_matches.groupby('season').agg(\n",
    "#     total_rows=pd.NamedAgg(column='date', aggfunc='size'),\n",
    "#     null_event_rows=pd.NamedAgg(column='runner_name', aggfunc=lambda x: x.isnull().sum())\n",
    "# )\n",
    "\n",
    "# display(result.head(10))\n",
    "\n",
    "# Group by leaue and count\n",
    "# result = all_matches.groupby('position').agg(\n",
    "#     total_rows=pd.NamedAgg(column='date', aggfunc='size'),\n",
    "#     null_event_rows=pd.NamedAgg(column='runner_name', aggfunc=lambda x: x.isnull().sum())\n",
    "# )\n",
    "\n",
    "# display(result.head(15))"
   ]
  },
  {
   "cell_type": "markdown",
   "id": "0cf76b24",
   "metadata": {},
   "source": [
    "# Export data"
   ]
  },
  {
   "cell_type": "code",
   "execution_count": 57,
   "id": "9b13965b",
   "metadata": {},
   "outputs": [],
   "source": [
    "event_df[\"home_team_original\"] = fbref_df[\"home_team\"].values\n",
    "event_df[\"away_team_original\"] = fbref_df[\"away_team\"].values\n",
    "\n",
    "event_df_mapped = event_df.merge(filtered_df[[\"home_team\", \"away_team\", \"date\",\"player_id\", \"event_id\", \"runner_id\"]],\n",
    "                                 on=[\"home_team\", \"away_team\", \"date\",\"player_id\"])\n",
    "\n",
    "\n",
    "\n",
    "#select only key columns\n",
    "event_df_mapped = event_df_mapped[[\"home_team_original\",\"away_team_original\",\"datetime\",\"player_id\",\"event_id\",\"runner_id\"]]\n",
    "event_df_mapped = event_df_mapped.rename(columns={\"home_team_original\":\"home_team\",\"away_team_original\":\"away_team\"})"
   ]
  },
  {
   "cell_type": "code",
   "execution_count": 58,
   "id": "7f29714e",
   "metadata": {},
   "outputs": [],
   "source": [
    "event_df_mapped.to_csv(\"betfairhistoricalprices/fbref_betfair_mapping.csv\", index=False)"
   ]
  },
  {
   "cell_type": "code",
   "execution_count": 59,
   "id": "316daa35",
   "metadata": {},
   "outputs": [
    {
     "data": {
      "text/html": [
       "<div>\n",
       "<style scoped>\n",
       "    .dataframe tbody tr th:only-of-type {\n",
       "        vertical-align: middle;\n",
       "    }\n",
       "\n",
       "    .dataframe tbody tr th {\n",
       "        vertical-align: top;\n",
       "    }\n",
       "\n",
       "    .dataframe thead th {\n",
       "        text-align: right;\n",
       "    }\n",
       "</style>\n",
       "<table border=\"1\" class=\"dataframe\">\n",
       "  <thead>\n",
       "    <tr style=\"text-align: right;\">\n",
       "      <th></th>\n",
       "      <th>home_team</th>\n",
       "      <th>away_team</th>\n",
       "      <th>datetime</th>\n",
       "      <th>player_id</th>\n",
       "      <th>event_id</th>\n",
       "      <th>runner_id</th>\n",
       "    </tr>\n",
       "  </thead>\n",
       "  <tbody>\n",
       "    <tr>\n",
       "      <th>0</th>\n",
       "      <td>Hellas Verona</td>\n",
       "      <td>Napoli</td>\n",
       "      <td>2017-08-19 18:45:00</td>\n",
       "      <td>5370cba7</td>\n",
       "      <td>28332149</td>\n",
       "      <td>8851417</td>\n",
       "    </tr>\n",
       "    <tr>\n",
       "      <th>1</th>\n",
       "      <td>Atalanta</td>\n",
       "      <td>Roma</td>\n",
       "      <td>2017-08-20 16:00:00</td>\n",
       "      <td>6e4df551</td>\n",
       "      <td>28332152</td>\n",
       "      <td>14098432</td>\n",
       "    </tr>\n",
       "    <tr>\n",
       "      <th>2</th>\n",
       "      <td>Torino</td>\n",
       "      <td>Sassuolo</td>\n",
       "      <td>2017-08-27 16:00:00</td>\n",
       "      <td>d705ba44</td>\n",
       "      <td>28346754</td>\n",
       "      <td>8783691</td>\n",
       "    </tr>\n",
       "    <tr>\n",
       "      <th>3</th>\n",
       "      <td>Napoli</td>\n",
       "      <td>Atalanta</td>\n",
       "      <td>2017-08-27 18:45:00</td>\n",
       "      <td>89b2c8a9</td>\n",
       "      <td>28346750</td>\n",
       "      <td>7673127</td>\n",
       "    </tr>\n",
       "    <tr>\n",
       "      <th>4</th>\n",
       "      <td>Napoli</td>\n",
       "      <td>Atalanta</td>\n",
       "      <td>2017-08-27 18:45:00</td>\n",
       "      <td>2f557579</td>\n",
       "      <td>28346750</td>\n",
       "      <td>6637779</td>\n",
       "    </tr>\n",
       "  </tbody>\n",
       "</table>\n",
       "</div>"
      ],
      "text/plain": [
       "       home_team away_team            datetime player_id  event_id  runner_id\n",
       "0  Hellas Verona    Napoli 2017-08-19 18:45:00  5370cba7  28332149    8851417\n",
       "1       Atalanta      Roma 2017-08-20 16:00:00  6e4df551  28332152   14098432\n",
       "2         Torino  Sassuolo 2017-08-27 16:00:00  d705ba44  28346754    8783691\n",
       "3         Napoli  Atalanta 2017-08-27 18:45:00  89b2c8a9  28346750    7673127\n",
       "4         Napoli  Atalanta 2017-08-27 18:45:00  2f557579  28346750    6637779"
      ]
     },
     "execution_count": 59,
     "metadata": {},
     "output_type": "execute_result"
    }
   ],
   "source": [
    "event_df_mapped.head()"
   ]
  },
  {
   "cell_type": "code",
   "execution_count": 44,
   "id": "1df224f8",
   "metadata": {},
   "outputs": [
    {
     "data": {
      "text/plain": [
       "(86424, 6)"
      ]
     },
     "execution_count": 44,
     "metadata": {},
     "output_type": "execute_result"
    }
   ],
   "source": [
    "event_df_mapped.shape"
   ]
  },
  {
   "cell_type": "code",
   "execution_count": 60,
   "id": "b5d66c3b",
   "metadata": {},
   "outputs": [
    {
     "data": {
      "text/plain": [
       "(86424, 6)"
      ]
     },
     "execution_count": 60,
     "metadata": {},
     "output_type": "execute_result"
    }
   ],
   "source": [
    "event_df_mapped.shape"
   ]
  },
  {
   "cell_type": "code",
   "execution_count": null,
   "id": "9681b2e2",
   "metadata": {},
   "outputs": [],
   "source": []
  }
 ],
 "metadata": {
  "kernelspec": {
   "display_name": "Python 3 (ipykernel)",
   "language": "python",
   "name": "python3"
  },
  "language_info": {
   "codemirror_mode": {
    "name": "ipython",
    "version": 3
   },
   "file_extension": ".py",
   "mimetype": "text/x-python",
   "name": "python",
   "nbconvert_exporter": "python",
   "pygments_lexer": "ipython3",
   "version": "3.10.9"
  }
 },
 "nbformat": 4,
 "nbformat_minor": 5
}
