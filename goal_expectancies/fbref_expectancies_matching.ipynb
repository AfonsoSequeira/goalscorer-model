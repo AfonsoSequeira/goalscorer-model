{
 "cells": [
  {
   "cell_type": "code",
   "execution_count": 136,
   "id": "7bedadfe",
   "metadata": {},
   "outputs": [],
   "source": [
    "import pandas as pd\n",
    "import scipy\n",
    "import glob\n",
    "import numpy as np\n",
    "import seaborn as sns\n",
    "import matplotlib.pyplot as plt\n",
    "import scipy\n",
    "import os\n",
    "from unidecode import unidecode\n",
    "pd.set_option('display.max_columns', None)\n",
    "pd.set_option('display.max_rows', 1000)\n",
    "pd.set_option('max_colwidth', 100)"
   ]
  },
  {
   "cell_type": "code",
   "execution_count": 137,
   "id": "d870d0d6",
   "metadata": {},
   "outputs": [],
   "source": [
    "#event data\n",
    "event_df = pd.read_csv(\"C:/MyDevelopment/Goalscorers/clean_data/event_data.csv\")\n",
    "\n",
    "#expectancies data\n",
    "exp_df = pd.read_csv(\"C:/MyDevelopment/Goalscorers/clean_data/match_expectancies.csv\")"
   ]
  },
  {
   "cell_type": "code",
   "execution_count": 138,
   "id": "4f5146dd",
   "metadata": {},
   "outputs": [],
   "source": [
    "#get unique teams list for fbref and betfair, unidecode names\n",
    "event_teams = pd.Series(pd.unique(event_df[['home_team', 'away_team']].values.ravel('K'))).transform(lambda x: unidecode(x))\n",
    "exp_teams = pd.Series(pd.unique(exp_df[['home_team', 'away_team']].values.ravel('K'))).transform(lambda x: unidecode(x))"
   ]
  },
  {
   "cell_type": "code",
   "execution_count": 139,
   "id": "ea8b48dd",
   "metadata": {},
   "outputs": [],
   "source": [
    "#helper functions\n",
    "def transform_dict(input_dict):\n",
    "    output_dict = {}\n",
    "    for key, value_list in input_dict.items():\n",
    "        for value in value_list:\n",
    "            output_dict[value] = key\n",
    "    return output_dict\n",
    "\n",
    "def match_words(A, B):\n",
    "    result = {}\n",
    "    for a in A:\n",
    "        words = set(a.split())\n",
    "        words = [w for w in words if len(w) > 2 and w not in [\"City\",\"Town\",\"United\",\"Real\", \"West\"]]\n",
    "        matching_elements = [b for b in B if any(word in b for word in words)]\n",
    "        result[a] = matching_elements\n",
    "    return result\n",
    "\n",
    "def filter_function(row):\n",
    "    flag = row['player'].split()[-1].split('-')[-1] in [word for part in row['runner_name'].split() for word in part.split('-')]\n",
    "    return flag\n",
    "\n",
    "def get_scores(row):\n",
    "    score = fuzz.ratio(row[\"player\"], row[\"runner_name\"])\n",
    "    return score"
   ]
  },
  {
   "cell_type": "code",
   "execution_count": 140,
   "id": "d853c24b",
   "metadata": {},
   "outputs": [],
   "source": [
    "#current mapping (key:fbref -> val:betfair)\n",
    "mapping = {\n",
    "    'ADO Den Haag': ['Den Haag'],\n",
    "    'Arminia': ['Bielefeld'],\n",
    "    'Athletic Club': ['Ath Bilbao'],\n",
    "    'Atletico Madrid': ['Ath Madrid'],\n",
    "    'Bayer Leverkusen': ['Leverkusen'],\n",
    "    'Belenenses SAD': ['Belenenses'],\n",
    "    'Birmingham City': ['Birmingham'],\n",
    "    'Blackburn Rovers': ['Blackburn'],\n",
    "    'Bolton Wanderers': ['Bolton'],\n",
    "    'Braga': ['Sp Braga'],\n",
    "    'Brighton & Hove Albion': ['Brighton'],\n",
    "    'Cardiff City': ['Cardiff'],\n",
    "    'Celta Vigo': ['Celta'],\n",
    "    'Charlton Athletic': ['Charlton'],\n",
    "    'Clermont Foot': ['Clermont'],\n",
    "    'Coventry City': ['Coventry'],\n",
    "    'De Graafschap': ['Graafschap'],\n",
    "    'Deportivo La Coruna': ['La Coruna'],\n",
    "    'Derby County': ['Derby'],\n",
    "    'Dusseldorf': ['Fortuna Dusseldorf'],\n",
    "    'Eintracht Frankfurt': ['Ein Frankfurt'],\n",
    "    'Emmen': ['FC Emmen'],\n",
    "    'Espanyol': ['Espanol'],\n",
    "    'Fortuna Sittard': ['For Sittard'],\n",
    "    'Gil Vicente FC': ['Gil Vicente'],\n",
    "    'Hamburger SV': ['Hamburg'],\n",
    "    'Hannover 96': ['Hannover'],\n",
    "    'Hellas Verona': ['Verona'],\n",
    "    'Heracles Almelo': ['Heracles'],\n",
    "    'Hertha BSC': ['Hertha'],\n",
    "    'Huddersfield Town': ['Huddersfield'],\n",
    "    'Hull City': ['Hull'],\n",
    "    'Internazionale': ['Inter'],\n",
    "    'Ipswich Town': ['Ipswich'],\n",
    "    'Koln': ['FC Koln'],\n",
    "    'Leeds United': ['Leeds'],\n",
    "    'Leicester City': ['Leicester'],\n",
    "    'Luton Town': ['Luton'],\n",
    "    'Mainz 05': ['Mainz'],\n",
    "    'Manchester City': ['Man City'],\n",
    "    'Manchester United': ['Man United'],\n",
    "    'Monchengladbach': [\"M'gladbach\"],\n",
    "    'NEC Nijmegen': ['Nijmegen'],\n",
    "    'Newcastle United': ['Newcastle'],\n",
    "    'Norwich City': ['Norwich'],\n",
    "    'Nottingham Forest': [\"Nott'm Forest\"],\n",
    "    'Pacos de Ferreira': ['Pacos Ferreira'],\n",
    "    'Paderborn 07': ['Paderborn'],\n",
    "    'Paris Saint-Germain': ['Paris SG'],\n",
    "    'Peterborough United': ['Peterboro'],\n",
    "    'Preston North End': ['Preston'],\n",
    "    'Queens Park Rangers': ['QPR'],\n",
    "    'RKC Waalwijk': ['Waalwijk'],\n",
    "    'Rayo Vallecano': ['Vallecano'],\n",
    "    'Real Betis': ['Betis'],\n",
    "    'Real Sociedad': ['Sociedad'],\n",
    "    'Rotherham United': ['Rotherham'],\n",
    "    'SPAL': ['Spal'],\n",
    "    'Saint-Etienne': ['St Etienne'],\n",
    "    'Sheffield Wednesday': ['Sheffield Weds'],\n",
    "    'Sporting CP': ['Sp Lisbon'],\n",
    "    'Stoke City': ['Stoke'],\n",
    "    'Swansea City': ['Swansea'],\n",
    "    'Tottenham Hotspur': ['Tottenham'],\n",
    "    'VVV-Venlo': ['VVV Venlo'],\n",
    "    'Vitoria Guimaraes': ['Guimaraes'],\n",
    "    'Vitoria Setubal': ['Setubal'],\n",
    "    'West Bromwich Albion': ['West Brom'],\n",
    "    'West Ham United': ['West Ham'],\n",
    "    'Wigan Athletic': ['Wigan'],\n",
    "    'Wolverhampton Wanderers': [],\n",
    "    'Wycombe Wanderers': ['Wycombe']\n",
    "}\n",
    "\n",
    "team_mapping = transform_dict(mapping)\n",
    "exp_teams = exp_teams.transform(lambda x: team_mapping[x] if x in team_mapping.keys() else x)"
   ]
  },
  {
   "cell_type": "code",
   "execution_count": 141,
   "id": "d7d358a2",
   "metadata": {},
   "outputs": [
    {
     "name": "stdout",
     "output_type": "stream",
     "text": [
      "['Wolverhampton Wanderers']\n"
     ]
    }
   ],
   "source": [
    "intersection = np.intersect1d(event_teams, exp_teams)\n",
    "outersection = np.setdiff1d(event_teams, exp_teams)\n",
    "assert(len(outersection) + len(intersection) == len(event_teams))\n",
    "\n",
    "print(outersection)"
   ]
  },
  {
   "cell_type": "code",
   "execution_count": 142,
   "id": "a5f83378",
   "metadata": {},
   "outputs": [
    {
     "data": {
      "text/plain": [
       "{'Wolverhampton Wanderers': ['Bolton Wanderers', 'Wycombe Wanderers']}"
      ]
     },
     "execution_count": 142,
     "metadata": {},
     "output_type": "execute_result"
    }
   ],
   "source": [
    "#automatically search for team name pairs that share a word (see match_words function def), if raw_map contains key, val pairs,\n",
    "#check if they are correct and update the mapping above and re run.\n",
    "raw_map = match_words(outersection, exp_teams)\n",
    "raw_map"
   ]
  },
  {
   "cell_type": "code",
   "execution_count": 143,
   "id": "dd052b16",
   "metadata": {},
   "outputs": [
    {
     "data": {
      "text/plain": [
       "10       Wolves\n",
       "90    Wolfsburg\n",
       "dtype: object"
      ]
     },
     "execution_count": 143,
     "metadata": {},
     "output_type": "execute_result"
    }
   ],
   "source": [
    "exp_teams[exp_teams.str.contains(\"Wol\")]"
   ]
  },
  {
   "cell_type": "code",
   "execution_count": 175,
   "id": "ed9aa4bd",
   "metadata": {},
   "outputs": [],
   "source": [
    "event_df['home_team_ud'] = event_df['home_team'].transform(lambda x: unidecode(x))\n",
    "event_df['away_team_ud'] = event_df['away_team'].transform(lambda x: unidecode(x))\n",
    "\n",
    "exp_df['home_team_ud'] = exp_df['home_team'].transform(lambda x: unidecode(x))\n",
    "exp_df['away_team_ud'] = exp_df['away_team'].transform(lambda x: unidecode(x))\n",
    "\n",
    "exp_df['home_team'] = exp_df['home_team'].transform(lambda x: team_mapping[x] if x in team_mapping.keys() else x)\n",
    "exp_df['away_team'] = exp_df['away_team'].transform(lambda x: team_mapping[x] if x in team_mapping.keys() else x)\n",
    "\n",
    "event_df.datetime = pd.to_datetime(event_df.datetime)\n",
    "event_df[\"date\"] = pd.to_datetime(event_df.datetime.dt.date)\n",
    "exp_df[\"date\"] = pd.to_datetime(exp_df.date)\n",
    "\n",
    "#merge matches on matchdate, home_team and away_team (left merge)\n",
    "event_matches = event_df[['home_team_ud', 'away_team_ud','home_team', 'away_team', 'date']].drop_duplicates()\n",
    "exp_matches = exp_df[['home_team_ud', 'away_team_ud', 'date',\"home_exp\",\"away_exp\"]].drop_duplicates()\n",
    "\n",
    "matches = pd.merge(event_matches, exp_matches, on=['date', 'home_team_ud', 'away_team_ud'], how='inner')"
   ]
  },
  {
   "cell_type": "code",
   "execution_count": 176,
   "id": "4fe2954d",
   "metadata": {},
   "outputs": [
    {
     "data": {
      "text/html": [
       "<div>\n",
       "<style scoped>\n",
       "    .dataframe tbody tr th:only-of-type {\n",
       "        vertical-align: middle;\n",
       "    }\n",
       "\n",
       "    .dataframe tbody tr th {\n",
       "        vertical-align: top;\n",
       "    }\n",
       "\n",
       "    .dataframe thead th {\n",
       "        text-align: right;\n",
       "    }\n",
       "</style>\n",
       "<table border=\"1\" class=\"dataframe\">\n",
       "  <thead>\n",
       "    <tr style=\"text-align: right;\">\n",
       "      <th></th>\n",
       "      <th>home_team_ud</th>\n",
       "      <th>away_team_ud</th>\n",
       "      <th>home_team</th>\n",
       "      <th>away_team</th>\n",
       "      <th>date</th>\n",
       "      <th>home_exp</th>\n",
       "      <th>away_exp</th>\n",
       "    </tr>\n",
       "  </thead>\n",
       "  <tbody>\n",
       "    <tr>\n",
       "      <th>0</th>\n",
       "      <td>Juventus</td>\n",
       "      <td>Cagliari</td>\n",
       "      <td>Juventus</td>\n",
       "      <td>Cagliari</td>\n",
       "      <td>2017-08-19</td>\n",
       "      <td>2.684264</td>\n",
       "      <td>0.459997</td>\n",
       "    </tr>\n",
       "    <tr>\n",
       "      <th>1</th>\n",
       "      <td>Hellas Verona</td>\n",
       "      <td>Napoli</td>\n",
       "      <td>Hellas Verona</td>\n",
       "      <td>Napoli</td>\n",
       "      <td>2017-08-19</td>\n",
       "      <td>0.819507</td>\n",
       "      <td>2.221524</td>\n",
       "    </tr>\n",
       "    <tr>\n",
       "      <th>2</th>\n",
       "      <td>Atalanta</td>\n",
       "      <td>Roma</td>\n",
       "      <td>Atalanta</td>\n",
       "      <td>Roma</td>\n",
       "      <td>2017-08-20</td>\n",
       "      <td>1.295109</td>\n",
       "      <td>1.524255</td>\n",
       "    </tr>\n",
       "    <tr>\n",
       "      <th>3</th>\n",
       "      <td>Udinese</td>\n",
       "      <td>Chievo</td>\n",
       "      <td>Udinese</td>\n",
       "      <td>Chievo</td>\n",
       "      <td>2017-08-20</td>\n",
       "      <td>1.402496</td>\n",
       "      <td>0.967474</td>\n",
       "    </tr>\n",
       "    <tr>\n",
       "      <th>4</th>\n",
       "      <td>Internazionale</td>\n",
       "      <td>Fiorentina</td>\n",
       "      <td>Internazionale</td>\n",
       "      <td>Fiorentina</td>\n",
       "      <td>2017-08-20</td>\n",
       "      <td>1.990541</td>\n",
       "      <td>0.905028</td>\n",
       "    </tr>\n",
       "  </tbody>\n",
       "</table>\n",
       "</div>"
      ],
      "text/plain": [
       "     home_team_ud away_team_ud       home_team   away_team       date  \\\n",
       "0        Juventus     Cagliari        Juventus    Cagliari 2017-08-19   \n",
       "1   Hellas Verona       Napoli   Hellas Verona      Napoli 2017-08-19   \n",
       "2        Atalanta         Roma        Atalanta        Roma 2017-08-20   \n",
       "3         Udinese       Chievo         Udinese      Chievo 2017-08-20   \n",
       "4  Internazionale   Fiorentina  Internazionale  Fiorentina 2017-08-20   \n",
       "\n",
       "   home_exp  away_exp  \n",
       "0  2.684264  0.459997  \n",
       "1  0.819507  2.221524  \n",
       "2  1.295109  1.524255  \n",
       "3  1.402496  0.967474  \n",
       "4  1.990541  0.905028  "
      ]
     },
     "execution_count": 176,
     "metadata": {},
     "output_type": "execute_result"
    }
   ],
   "source": [
    "matches.head(5)"
   ]
  },
  {
   "cell_type": "code",
   "execution_count": 177,
   "id": "9760d819",
   "metadata": {},
   "outputs": [
    {
     "data": {
      "text/plain": [
       "0"
      ]
     },
     "execution_count": 177,
     "metadata": {},
     "output_type": "execute_result"
    }
   ],
   "source": [
    "#check duplicates\n",
    "matches[[\"home_team\", \"away_team\", \"date\"]].duplicated(keep=False).sum()"
   ]
  },
  {
   "cell_type": "code",
   "execution_count": 178,
   "id": "c117f348",
   "metadata": {},
   "outputs": [
    {
     "name": "stdout",
     "output_type": "stream",
     "text": [
      "240\n"
     ]
    },
    {
     "data": {
      "text/html": [
       "<div>\n",
       "<style scoped>\n",
       "    .dataframe tbody tr th:only-of-type {\n",
       "        vertical-align: middle;\n",
       "    }\n",
       "\n",
       "    .dataframe tbody tr th {\n",
       "        vertical-align: top;\n",
       "    }\n",
       "\n",
       "    .dataframe thead th {\n",
       "        text-align: right;\n",
       "    }\n",
       "</style>\n",
       "<table border=\"1\" class=\"dataframe\">\n",
       "  <thead>\n",
       "    <tr style=\"text-align: right;\">\n",
       "      <th></th>\n",
       "      <th>home_team_ud</th>\n",
       "      <th>away_team_ud</th>\n",
       "      <th>home_team</th>\n",
       "      <th>away_team</th>\n",
       "      <th>date</th>\n",
       "      <th>home_exp</th>\n",
       "      <th>away_exp</th>\n",
       "      <th>_merge</th>\n",
       "    </tr>\n",
       "  </thead>\n",
       "  <tbody>\n",
       "    <tr>\n",
       "      <th>2377</th>\n",
       "      <td>Aston Villa</td>\n",
       "      <td>West Bromwich Albion</td>\n",
       "      <td>Aston Villa</td>\n",
       "      <td>West Bromwich Albion</td>\n",
       "      <td>2019-05-11</td>\n",
       "      <td>NaN</td>\n",
       "      <td>NaN</td>\n",
       "      <td>left_only</td>\n",
       "    </tr>\n",
       "    <tr>\n",
       "      <th>2378</th>\n",
       "      <td>Derby County</td>\n",
       "      <td>Leeds United</td>\n",
       "      <td>Derby County</td>\n",
       "      <td>Leeds United</td>\n",
       "      <td>2019-05-11</td>\n",
       "      <td>NaN</td>\n",
       "      <td>NaN</td>\n",
       "      <td>left_only</td>\n",
       "    </tr>\n",
       "    <tr>\n",
       "      <th>2379</th>\n",
       "      <td>West Bromwich Albion</td>\n",
       "      <td>Aston Villa</td>\n",
       "      <td>West Bromwich Albion</td>\n",
       "      <td>Aston Villa</td>\n",
       "      <td>2019-05-14</td>\n",
       "      <td>NaN</td>\n",
       "      <td>NaN</td>\n",
       "      <td>left_only</td>\n",
       "    </tr>\n",
       "    <tr>\n",
       "      <th>2380</th>\n",
       "      <td>Leeds United</td>\n",
       "      <td>Derby County</td>\n",
       "      <td>Leeds United</td>\n",
       "      <td>Derby County</td>\n",
       "      <td>2019-05-15</td>\n",
       "      <td>NaN</td>\n",
       "      <td>NaN</td>\n",
       "      <td>left_only</td>\n",
       "    </tr>\n",
       "    <tr>\n",
       "      <th>2381</th>\n",
       "      <td>Aston Villa</td>\n",
       "      <td>Derby County</td>\n",
       "      <td>Aston Villa</td>\n",
       "      <td>Derby County</td>\n",
       "      <td>2019-05-27</td>\n",
       "      <td>NaN</td>\n",
       "      <td>NaN</td>\n",
       "      <td>left_only</td>\n",
       "    </tr>\n",
       "  </tbody>\n",
       "</table>\n",
       "</div>"
      ],
      "text/plain": [
       "              home_team_ud          away_team_ud             home_team  \\\n",
       "2377           Aston Villa  West Bromwich Albion           Aston Villa   \n",
       "2378          Derby County          Leeds United          Derby County   \n",
       "2379  West Bromwich Albion           Aston Villa  West Bromwich Albion   \n",
       "2380          Leeds United          Derby County          Leeds United   \n",
       "2381           Aston Villa          Derby County           Aston Villa   \n",
       "\n",
       "                 away_team       date  home_exp  away_exp     _merge  \n",
       "2377  West Bromwich Albion 2019-05-11       NaN       NaN  left_only  \n",
       "2378          Leeds United 2019-05-11       NaN       NaN  left_only  \n",
       "2379           Aston Villa 2019-05-14       NaN       NaN  left_only  \n",
       "2380          Derby County 2019-05-15       NaN       NaN  left_only  \n",
       "2381          Derby County 2019-05-27       NaN       NaN  left_only  "
      ]
     },
     "execution_count": 178,
     "metadata": {},
     "output_type": "execute_result"
    }
   ],
   "source": [
    "#check missing matches\n",
    "missing_matches = pd.merge(event_matches, matches,\n",
    "                           on=[\"home_team_ud\",\"away_team_ud\",\"home_team\",\"away_team\",\"date\"],\n",
    "                           how='left',\n",
    "                           indicator=True)\n",
    "\n",
    "print(len(missing_matches[missing_matches._merge == 'left_only']))\n",
    "missing_matches[missing_matches._merge == 'left_only'].head(5)"
   ]
  },
  {
   "cell_type": "code",
   "execution_count": 179,
   "id": "ecd0b859",
   "metadata": {},
   "outputs": [],
   "source": [
    "matches.drop(columns=[\"home_team_ud\",\"away_team_ud\"], inplace=True)\n",
    "matches.to_csv(\"C:/MyDevelopment/Goalscorers/goal_expectancies/fbref_matched_expectancies.csv\", index=False)"
   ]
  }
 ],
 "metadata": {
  "kernelspec": {
   "display_name": "Python 3 (ipykernel)",
   "language": "python",
   "name": "python3"
  },
  "language_info": {
   "codemirror_mode": {
    "name": "ipython",
    "version": 3
   },
   "file_extension": ".py",
   "mimetype": "text/x-python",
   "name": "python",
   "nbconvert_exporter": "python",
   "pygments_lexer": "ipython3",
   "version": "3.10.9"
  }
 },
 "nbformat": 4,
 "nbformat_minor": 5
}
